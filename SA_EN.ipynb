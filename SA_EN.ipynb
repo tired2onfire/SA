{
  "nbformat": 4,
  "nbformat_minor": 0,
  "metadata": {
    "kernelspec": {
      "display_name": "Python 3",
      "language": "python",
      "name": "python3"
    },
    "colab": {
      "name": "SA_EN.ipynb",
      "provenance": [],
      "collapsed_sections": [],
      "include_colab_link": true
    },
    "accelerator": "GPU"
  },
  "cells": [
    {
      "cell_type": "markdown",
      "metadata": {
        "id": "view-in-github",
        "colab_type": "text"
      },
      "source": [
        "<a href=\"https://colab.research.google.com/github/tired2onfire/SA/blob/master/SA_EN.ipynb\" target=\"_parent\"><img src=\"https://colab.research.google.com/assets/colab-badge.svg\" alt=\"Open In Colab\"/></a>"
      ]
    },
    {
      "cell_type": "code",
      "metadata": {
        "id": "oafKnIdxRiAT",
        "colab": {
          "base_uri": "https://localhost:8080/"
        },
        "outputId": "4972f8ff-0bf5-4994-ee10-f5271b39bb53"
      },
      "source": [
        "!git clone https://github.com/tired2onfire/SA.git"
      ],
      "execution_count": 2,
      "outputs": [
        {
          "output_type": "stream",
          "text": [
            "Cloning into 'SA'...\n",
            "remote: Enumerating objects: 22, done.\u001b[K\n",
            "remote: Counting objects: 100% (22/22), done.\u001b[K\n",
            "remote: Compressing objects: 100% (18/18), done.\u001b[K\n",
            "remote: Total 22 (delta 2), reused 5 (delta 0), pack-reused 0\u001b[K\n",
            "Unpacking objects: 100% (22/22), done.\n"
          ],
          "name": "stdout"
        }
      ]
    },
    {
      "cell_type": "code",
      "metadata": {
        "id": "fnfwNAJTS_qk"
      },
      "source": [
        "!pip install transformers"
      ],
      "execution_count": null,
      "outputs": []
    },
    {
      "cell_type": "code",
      "metadata": {
        "Collapsed": "false",
        "id": "z4db6B3m-fAi"
      },
      "source": [
        "import tensorflow as tf\n",
        "import torch\n",
        "\n",
        "from transformers import BertTokenizer\n",
        "from transformers import BertForSequenceClassification, AdamW, BertConfig\n",
        "from transformers import get_linear_schedule_with_warmup\n",
        "from torch.utils.data import TensorDataset, DataLoader, RandomSampler, SequentialSampler\n",
        "from tensorflow.keras.preprocessing.sequence import pad_sequences\n",
        "from sklearn.model_selection import train_test_split\n",
        "\n",
        "import pandas as pd\n",
        "import numpy as np\n",
        "import random\n",
        "import time\n",
        "import datetime\n",
        "import json"
      ],
      "execution_count": null,
      "outputs": []
    },
    {
      "cell_type": "code",
      "metadata": {
        "Collapsed": "false",
        "colab": {
          "base_uri": "https://localhost:8080/"
        },
        "id": "Y2fVEl-w-fAi",
        "outputId": "da1a388d-14a5-4b59-e529-40f6811f45cd"
      },
      "source": [
        "with open('SA/friends_train.json', 'r', encoding='UTF-8') as f:\n",
        "    json_train = json.load(f)\n",
        "\n",
        "train = pd.array(json_train)\n",
        "print('training set: ', train.shape)\n",
        "\n",
        "with open('SA/friends_dev.json', 'r', encoding='UTF-8') as f:\n",
        "    json_dev = json.load(f)\n",
        "\n",
        "dev = pd.array(json_dev)\n",
        "print('dev set: ', dev.shape)"
      ],
      "execution_count": null,
      "outputs": [
        {
          "output_type": "stream",
          "text": [
            "training set:  (720,)\n",
            "dev set:  (80,)\n"
          ],
          "name": "stdout"
        },
        {
          "output_type": "stream",
          "text": [
            "/usr/local/lib/python3.6/dist-packages/numpy/core/_asarray.py:83: VisibleDeprecationWarning: Creating an ndarray from ragged nested sequences (which is a list-or-tuple of lists-or-tuples-or ndarrays with different lengths or shapes) is deprecated. If you meant to do this, you must specify 'dtype=object' when creating the ndarray\n",
            "  return array(a, dtype, copy=False, order=order)\n"
          ],
          "name": "stderr"
        }
      ]
    },
    {
      "cell_type": "code",
      "metadata": {
        "id": "Ew-XDFwDGOGJ"
      },
      "source": [
        "exam_mode = True\r\n",
        "sentence_len = 2\r\n",
        "flag_speaker = True\r\n",
        "MAX_LEN = 0\r\n",
        "PRETRAINED_MODEL = 'bert-base-multilingual-cased'\r\n",
        "BATCH_SIZE = 36\r\n",
        "EPOCHS = 4\r\n",
        "SEED = 42"
      ],
      "execution_count": 40,
      "outputs": []
    },
    {
      "cell_type": "code",
      "metadata": {
        "Collapsed": "false",
        "id": "qzrAwT9P-fAj"
      },
      "source": [
        "test = []\r\n",
        "sen_set = []\r\n",
        "i = 0\r\n",
        "\r\n",
        "if exam_mode: \r\n",
        "    with open('SA/SA_EN_Friends.csv', 'r', encoding='utf-8') as f:\r\n",
        "        data = pd.read_csv(f)\r\n",
        "\r\n",
        "    for j in range(len(data)):\r\n",
        "        if(data['i_dialog'][j] != i):\r\n",
        "            i = data['i_dialog'][j]\r\n",
        "            test.append(sen_set)\r\n",
        "            sen_set = []\r\n",
        "\r\n",
        "        sen = {'speaker':data['speaker'][j], 'utterance':data['utterance'][j], 'emotion': 'neutral'}  \r\n",
        "        sen_set.append(sen)\r\n",
        "    test.append(sen_set)\r\n",
        "else:  \r\n",
        "    with open('SA/friends_test.json', 'r', encoding='UTF-8') as f:\r\n",
        "        test = json.load(f)\r\n",
        "\r\n",
        "test = pd.array(test)\r\n",
        "print('test set: ', test.shape)"
      ],
      "execution_count": null,
      "outputs": []
    },
    {
      "cell_type": "code",
      "metadata": {
        "Collapsed": "false",
        "id": "PyYxn5ID-fAk"
      },
      "source": [
        "def labeltoint(lbl):\r\n",
        "    return {'neutral': 0, 'non-neutral': 1, 'joy': 2, 'sadness': 3, 'anger': 4, 'surprise': 5, 'fear': 6, 'disgust': 7}[lbl]\r\n",
        "\r\n",
        "def inttolabel(lbl):\r\n",
        "    return {0: 'neutral', 1: 'non-neutral',2: 'joy', 3: 'sadness', 4: 'anger', 5: 'surprise', 6: 'fear', 7: 'disgust'}[lbl]\r\n",
        "\r\n",
        "def speakertoint(lbl):\r\n",
        "    return {'Chandler': 0, 'Joey': 1, 'Ross': 2, 'Rachel': 3, 'Monica': 4, 'Phoebe': 5, 'Other': 6}[lbl]\r\n",
        "\r\n",
        "def inttospeaker(lbl):\r\n",
        "    return {0: 'Chandler', 1: 'Joey',2: 'Ross', 3: 'Rachel', 4: 'Monica', 5: 'Phoebe', 6:'Other'}[lbl]\r\n",
        "\r\n",
        "def speakerCheck(lbl):\r\n",
        "    if lbl == 'Chandler' or lbl == 'Joey' or lbl == 'Ross' or lbl == 'Rachel' or lbl == 'Monica' or lbl == 'Phoebe':\r\n",
        "        return lbl\r\n",
        "    else:\r\n",
        "       return 'Other'\r\n",
        "\r\n",
        "\r\n",
        "\r\n",
        "def replaceunicode(text):\r\n",
        "    text = text.replace('\\u0085', \" \")\r\n",
        "    text = text.replace('\\u0091', \"'\")\r\n",
        "    text = text.replace('\\u0092', \"'\")\r\n",
        "    text = text.replace('\\u0093', \"'\")\r\n",
        "    text = text.replace('\\u0094', \"'\")\r\n",
        "    text = text.replace('\\u0097', \", \")\r\n",
        "    text = text.replace('\\u2019', \"'\")\r\n",
        "    text = text.replace('\\u00a0', \"\")\r\n",
        "    text = text.replace('\\u2026', \"...\")\r\n",
        "    text = text.replace('\\u2014', \". \")\r\n",
        "    text = text.replace('\\u00e9', \"\")\r\n",
        "    text = text.replace('\\u0096', \".\")\r\n",
        "    text = text.replace('\\u00e8', \"!\")\r\n",
        "    return text\r\n",
        "\r\n",
        "\r\n",
        "def Make_Sentence(df, speaker, sentence_len):\r\n",
        "\r\n",
        "    empty_str = \"\"\r\n",
        "    result = \"\"\r\n",
        "\r\n",
        "    empty_len = sentence_len - len(df)\r\n",
        "\r\n",
        "    for s, p in zip(df, speaker):\r\n",
        "\r\n",
        "        if flag_speaker:  \r\n",
        "            if p in {'Chandler', 'Joey', 'Ross', 'Rachel', 'Monica', 'Phoebe'}:\r\n",
        "              result =  result + ' {0}'.format(p)\r\n",
        "\r\n",
        "        result = result + \" \" + replaceunicode(s) + \" [SEP]\"\r\n",
        "\r\n",
        "    result = empty_str + result\r\n",
        "    result = \"[CLS]\" + result\r\n",
        "\r\n",
        "    return result\r\n",
        "\r\n",
        "\r\n",
        "def makeTalkingSet(trainingSet):\r\n",
        "    sentences = []\r\n",
        "    labels = []\r\n",
        "    speaker = []\r\n",
        "    for talking_set in trainingSet:\r\n",
        "        df_talk = pd.DataFrame(talking_set)\r\n",
        "        \r\n",
        "        for i in range(df_talk.index.size):\r\n",
        "            sentence = df_talk.iloc[max(0,i-sentence_len+1):i+1]['utterance']\r\n",
        "            sentence_speaker = df_talk.iloc[max(0,i-sentence_len+1):i+1]['speaker']\r\n",
        "            dummy_sen = Make_Sentence(sentence, sentence_speaker, sentence_len)\r\n",
        "            sentences.append(dummy_sen)\r\n",
        "            labels.append(labeltoint(df_talk.iloc[i]['emotion']))\r\n",
        "            speaker.append(speakertoint(speakerCheck(df_talk.iloc[i]['speaker'])))\r\n",
        "    \r\n",
        "    sentences = pd.Series(sentences)\r\n",
        "\r\n",
        "    return sentences, labels, speaker"
      ],
      "execution_count": 42,
      "outputs": []
    },
    {
      "cell_type": "code",
      "metadata": {
        "Collapsed": "false",
        "id": "r0UKndOF-fAk"
      },
      "source": [
        "sentences_train, labels_train, speaker_train = makeTalkingSet(train)\r\n",
        "sentences_dev, labels_dev, speaker_dev = makeTalkingSet(dev)\r\n",
        "sentences_test, labels_test, speaker_test = makeTalkingSet(test)\r\n",
        "\r\n",
        "print(sentences_train.shape)\r\n",
        "print(sentences_train[:10])\r\n",
        "print(len(labels_train))\r\n",
        "print(labels_train[:100]"
      ],
      "execution_count": null,
      "outputs": []
    },
    {
      "cell_type": "code",
      "metadata": {
        "id": "mpDRZJKl9gYg"
      },
      "source": [
        "tokenizer = BertTokenizer.from_pretrained(PRETRAINED_MODEL, do_lower_case=False)\r\n",
        "tokenized_texts_train = [tokenizer.tokenize(sent) for sent in sentences_train]\r\n",
        "tokenized_texts_test = [tokenizer.tokenize(sent) for sent in sentences_test]\r\n",
        "tokenized_texts_dev = [tokenizer.tokenize(sent) for sent in sentences_dev]\r\n",
        "\r\n",
        "print(sentences_train[0])\r\n",
        "print(tokenized_texts_train[0])"
      ],
      "execution_count": null,
      "outputs": []
    },
    {
      "cell_type": "code",
      "metadata": {
        "id": "HWcjkSPu9gon"
      },
      "source": [
        "if MAX_LEN == 0:\r\n",
        "    str_len = []\r\n",
        "    for s in tokenized_texts_train:\r\n",
        "        str_len.append(len(s))\r\n",
        "    for s in tokenized_texts_test:\r\n",
        "        str_len.append(len(s))\r\n",
        "    for s in tokenized_texts_dev:\r\n",
        "        str_len.append(len(s))\r\n",
        "        \r\n",
        "    MAX_LEN = max(str_len)\r\n",
        "    print('tokenized text의 최대 길이 : ',MAX_LEN)"
      ],
      "execution_count": null,
      "outputs": []
    },
    {
      "cell_type": "code",
      "metadata": {
        "id": "J9QzYnqk9g0i"
      },
      "source": [
        "input_ids_train = [tokenizer.convert_tokens_to_ids(x) for x in tokenized_texts_train]\r\n",
        "input_ids_train = pad_sequences(input_ids_train, maxlen=MAX_LEN, dtype='long', truncating='post', padding='post')\r\n",
        "\r\n",
        "input_ids_test = [tokenizer.convert_tokens_to_ids(x) for x in tokenized_texts_test]\r\n",
        "input_ids_test = pad_sequences(input_ids_test, maxlen=MAX_LEN, dtype='long', truncating='post', padding='post')\r\n",
        "\r\n",
        "input_ids_dev = [tokenizer.convert_tokens_to_ids(x) for x in tokenized_texts_dev]\r\n",
        "input_ids_dev = pad_sequences(input_ids_dev, maxlen=MAX_LEN, dtype='long', truncating='post', padding='post')\r\n",
        "\r\n",
        "input_ids_train[0]"
      ],
      "execution_count": null,
      "outputs": []
    },
    {
      "cell_type": "code",
      "metadata": {
        "id": "hWPU3xqs9g96"
      },
      "source": [
        "def set_attention_masks(input_ids):\r\n",
        "    attention_masks = []\r\n",
        "\r\n",
        "    for seq in input_ids:\r\n",
        "        seq_mask = [float(i>0) for i in seq]\r\n",
        "        attention_masks.append(seq_mask)\r\n",
        "      \r\n",
        "    return attention_masks\r\n",
        "\r\n",
        "attention_masks_train = set_attention_masks(input_ids_train)\r\n",
        "attention_masks_test = set_attention_masks(input_ids_test)\r\n",
        "attention_masks_dev = set_attention_masks(input_ids_dev)\r\n",
        "\r\n",
        "print(attention_masks_train[0])"
      ],
      "execution_count": null,
      "outputs": []
    },
    {
      "cell_type": "code",
      "metadata": {
        "id": "q_EiZdlj9hD-"
      },
      "source": [
        "train_inputs = torch.tensor(input_ids_train)\r\n",
        "train_labels = torch.tensor(labels_train)\r\n",
        "train_masks = torch.tensor(attention_masks_train)\r\n",
        "validation_inputs = torch.tensor(input_ids_dev)\r\n",
        "validation_labels = torch.tensor(labels_dev)\r\n",
        "validation_masks = torch.tensor(attention_masks_dev)\r\n",
        "\r\n",
        "print(train_inputs.size())\r\n",
        "print(train_labels.size())\r\n",
        "print(train_masks.size())\r\n",
        "print(validation_inputs[0])\r\n",
        "print(validation_labels[0])\r\n",
        "print(validation_masks[0])"
      ],
      "execution_count": null,
      "outputs": []
    },
    {
      "cell_type": "code",
      "metadata": {
        "id": "1gpfVy4GgkTS"
      },
      "source": [
        "batch_size = BATCH_SIZE\r\n",
        "\r\n",
        "train_data = TensorDataset(train_inputs, train_masks, train_labels)\r\n",
        "train_sampler = RandomSampler(train_data)\r\n",
        "train_dataloader = DataLoader(train_data, sampler=train_sampler, batch_size=batch_size)\r\n",
        "\r\n",
        "validation_data = TensorDataset(validation_inputs, validation_masks, validation_labels)\r\n",
        "validation_sampler = RandomSampler(validation_data)\r\n",
        "validation_dataloader = DataLoader(validation_data, sampler=validation_sampler, batch_size=batch_size)"
      ],
      "execution_count": null,
      "outputs": []
    },
    {
      "cell_type": "code",
      "metadata": {
        "id": "g9IO3Bhmgkr3"
      },
      "source": [
        "test_inputs = torch.tensor(input_ids_test)\r\n",
        "test_labels = torch.tensor(labels_test)\r\n",
        "test_masks = torch.tensor(attention_masks_test)\r\n",
        "\r\n",
        "test_data = TensorDataset(test_inputs, test_masks, test_labels)\r\n",
        "test_sampler = SequentialSampler(test_data)\r\n",
        "test_dataloader = DataLoader(test_data, sampler=test_sampler, batch_size=batch_size)"
      ],
      "execution_count": null,
      "outputs": []
    },
    {
      "cell_type": "code",
      "metadata": {
        "id": "-3p7fbP0gkvx"
      },
      "source": [
        "device_name = tf.test.gpu_device_name()\r\n",
        "\r\n",
        "if device_name == '/device:GPU:0':\r\n",
        "    print('Found GPU at: {}'.format(device_name))\r\n",
        "else:\r\n",
        "    raise SystemError('GPU device not found')"
      ],
      "execution_count": null,
      "outputs": []
    },
    {
      "cell_type": "code",
      "metadata": {
        "id": "-_HxklHhgkzp"
      },
      "source": [
        "if torch.cuda.is_available():    \r\n",
        "    device = torch.device(\"cuda\")\r\n",
        "    print('There are %d GPU(s) available.' % torch.cuda.device_count())\r\n",
        "    print('We will use the GPU:', torch.cuda.get_device_name(0))\r\n",
        "else:\r\n",
        "    device = torch.device(\"cpu\")\r\n",
        "    print('No GPU available, using the CPU instead.')"
      ],
      "execution_count": null,
      "outputs": []
    },
    {
      "cell_type": "code",
      "metadata": {
        "id": "Wz9dfC8vgk2e"
      },
      "source": [
        "model = BertForSequenceClassification.from_pretrained(PRETRAINED_MODEL, num_labels=8)\r\n",
        "model.cuda()"
      ],
      "execution_count": null,
      "outputs": []
    },
    {
      "cell_type": "code",
      "metadata": {
        "Collapsed": "false",
        "id": "UjXDxV17-fAp"
      },
      "source": [
        "optimizer = AdamW(model.parameters(),\n",
        "                  lr=1e-5, \n",
        "                  eps=1e-8)"
      ],
      "execution_count": null,
      "outputs": []
    },
    {
      "cell_type": "code",
      "metadata": {
        "Collapsed": "false",
        "id": "ydCyKtTu-fAp"
      },
      "source": [
        "eepochs = EPOCHS\n",
        "\n",
        "total_steps = len(train_dataloader) * epochs\n",
        "\n",
        "scheduler = get_linear_schedule_with_warmup(optimizer, \n",
        "                                            num_warmup_steps = 0,\n",
        "                                            num_training_steps = total_steps)"
      ],
      "execution_count": null,
      "outputs": []
    },
    {
      "cell_type": "code",
      "metadata": {
        "id": "b26NGB-rkaAd"
      },
      "source": [
        "def flat_accuracy(preds, labels):\r\n",
        "    \r\n",
        "    pred_flat = np.argmax(preds, axis=1).flatten()\r\n",
        "    labels_flat = labels.flatten()\r\n",
        "\r\n",
        "    return np.sum(pred_flat == labels_flat) / len(labels_flat)\r\n",
        "\r\n",
        "def format_time(elapsed):\r\n",
        "\r\n",
        "    elapsed_rounded = int(round((elapsed)))\r\n",
        "\r\n",
        "    return datetime.timedelta(seconds=elapsed_rounded)"
      ],
      "execution_count": null,
      "outputs": []
    },
    {
      "cell_type": "code",
      "metadata": {
        "id": "oN3LWFkfkaGh"
      },
      "source": [
        "seed_val = SEED\r\n",
        "\r\n",
        "random.seed(seed_val)\r\n",
        "np.random.seed(seed_val)\r\n",
        "torch.manual_seed(seed_val)\r\n",
        "torch.cuda.manual_seed_all(seed_val)\r\n",
        "\r\n",
        "model.zero_grad()\r\n",
        "\r\n",
        "for epoch_i in range(0, epochs):\r\n",
        "    \r\n",
        "\r\n",
        "    print(\"\")\r\n",
        "    print('======== Epoch {:} / {:} ========'.format(epoch_i + 1, epochs))\r\n",
        "    print('Training...')\r\n",
        "\r\n",
        "  \r\n",
        "    t0 = time.time()\r\n",
        "\r\n",
        "    \r\n",
        "    total_loss = 0\r\n",
        "\r\n",
        "    \r\n",
        "    model.train()\r\n",
        "        \r\n",
        "    \r\n",
        "    for step, batch in enumerate(train_dataloader):\r\n",
        "        \r\n",
        "        if step % 100 == 0 and not step == 0:\r\n",
        "            elapsed = format_time(time.time() - t0)\r\n",
        "            print('  Batch {:>5,}  of  {:>5,}.    Elapsed: {:}.'.format(step, len(train_dataloader), elapsed))\r\n",
        "\r\n",
        "        \r\n",
        "        batch = tuple(t.to(device) for t in batch)\r\n",
        "        \r\n",
        "        \r\n",
        "        b_input_ids, b_input_mask, b_labels = batch\r\n",
        "\r\n",
        "             \r\n",
        "        outputs = model(b_input_ids, \r\n",
        "                        token_type_ids=None, \r\n",
        "                        attention_mask=b_input_mask, \r\n",
        "                        labels=b_labels)\r\n",
        "        \r\n",
        "        \r\n",
        "        loss = outputs[0]\r\n",
        "\r\n",
        "        \r\n",
        "        total_loss += loss.item()\r\n",
        "\r\n",
        "       \r\n",
        "        loss.backward()\r\n",
        "\r\n",
        "        \r\n",
        "        torch.nn.utils.clip_grad_norm_(model.parameters(), 1.0)\r\n",
        "\r\n",
        "        \r\n",
        "        optimizer.step()\r\n",
        "\r\n",
        "       \r\n",
        "        scheduler.step()\r\n",
        "\r\n",
        "        \r\n",
        "        model.zero_grad()\r\n",
        "\r\n",
        "    \r\n",
        "    avg_train_loss = total_loss / len(train_dataloader)            \r\n",
        "\r\n",
        "    print(\"\")\r\n",
        "    print(\"  Average training loss: {0:.2f}\".format(avg_train_loss))\r\n",
        "    print(\"  Training epcoh took: {:}\".format(format_time(time.time() - t0)))\r\n",
        "        \r\n",
        "\r\n",
        "    print(\"\")\r\n",
        "    print(\"Running Validation...\")\r\n",
        "\r\n",
        "    \r\n",
        "    t0 = time.time()\r\n",
        "\r\n",
        "    model.eval()\r\n",
        "\r\n",
        "    eval_loss, eval_accuracy = 0, 0\r\n",
        "    nb_eval_steps, nb_eval_examples = 0, 0\r\n",
        "\r\n",
        "    for batch in validation_dataloader:\r\n",
        "        \r\n",
        "        batch = tuple(t.to(device) for t in batch)\r\n",
        "        \r\n",
        "        b_input_ids, b_input_mask, b_labels = batch\r\n",
        "        \r\n",
        "        with torch.no_grad():     \r\n",
        "            \r\n",
        "            outputs = model(b_input_ids, \r\n",
        "                            token_type_ids=None, \r\n",
        "                            attention_mask=b_input_mask)\r\n",
        "        \r\n",
        "        logits = outputs[0]\r\n",
        "\r\n",
        "        logits = logits.detach().cpu().numpy()\r\n",
        "        label_ids = b_labels.to('cpu').numpy()\r\n",
        "        \r\n",
        "        tmp_eval_accuracy = flat_accuracy(logits, label_ids)\r\n",
        "        eval_accuracy += tmp_eval_accuracy\r\n",
        "        nb_eval_steps += 1\r\n",
        "\r\n",
        "    print(\"  Accuracy: {0:.2f}\".format(eval_accuracy/nb_eval_steps))\r\n",
        "    print(\"  Validation took: {:}\".format(format_time(time.time() - t0)))\r\n",
        "\r\n",
        "print(\"\")\r\n",
        "print(\"Training complete!\")"
      ],
      "execution_count": null,
      "outputs": []
    },
    {
      "cell_type": "code",
      "metadata": {
        "id": "NsPu-YpBkaJ5"
      },
      "source": [
        "t0 = time.time()\r\n",
        "\r\n",
        "model.eval()\r\n",
        "\r\n",
        "eval_loss, eval_accuracy = 0, 0\r\n",
        "nb_eval_steps, nb_eval_examples = 0, 0\r\n",
        "\r\n",
        "test_logits = []\r\n",
        "test_label_ids = []\r\n",
        "\r\n",
        "for step, batch in enumerate(test_dataloader):\r\n",
        " \r\n",
        "    if step % 100 == 0 and not step == 0:\r\n",
        "        elapsed = format_time(time.time() - t0)\r\n",
        "        print('  Batch {:>5,}  of  {:>5,}.    Elapsed: {:}.'.format(step, len(test_dataloader), elapsed))\r\n",
        "\r\n",
        "    batch = tuple(t.to(device) for t in batch)\r\n",
        "\r\n",
        "    b_input_ids, b_input_mask, b_labels = batch\r\n",
        "\r\n",
        "    with torch.no_grad():     \r\n",
        "     \r\n",
        "        outputs = model(b_input_ids, \r\n",
        "                        token_type_ids=None, \r\n",
        "                        attention_mask=b_input_mask)\r\n",
        "   \r\n",
        "    logits = outputs[0]\r\n",
        "\r\n",
        "    logits = logits.detach().cpu().numpy()\r\n",
        "    label_ids = b_labels.to('cpu').numpy()\r\n",
        "\r\n",
        "    for logit in logits:\r\n",
        "        test_logits.append(logit)\r\n",
        "\r\n",
        "    tmp_eval_accuracy = flat_accuracy(logits, label_ids)\r\n",
        "    eval_accuracy += tmp_eval_accuracy\r\n",
        "    nb_eval_steps += 1\r\n",
        "\r\n",
        "test_logits = np.array(test_logits)\r\n",
        "test_label_ids = np.array(test_label_ids)\r\n",
        "\r\n",
        "\r\n",
        "print(\"\")\r\n",
        "if exam_mode == False: \r\n",
        "    print(\"Accuracy: {0:.2f}\".format(eval_accuracy/nb_eval_steps))\r\n",
        "print(\"Test took: {:}\".format(format_time(time.time() - t0)))"
      ],
      "execution_count": null,
      "outputs": []
    },
    {
      "cell_type": "code",
      "metadata": {
        "id": "-Y4Mqy8akaOV"
      },
      "source": [
        "import csv\r\n",
        "\r\n",
        "if exam_mode == True: \r\n",
        "\r\n",
        "    result = np.argmax(test_logits, axis=1).flatten()\r\n",
        "\r\n",
        "    output = []\r\n",
        "    output.append(['Id', 'Predicted'])\r\n",
        "    for i in range(len(result)):\r\n",
        "        output.append([i, inttolabel(result[i])])\r\n",
        "\r\n",
        "    with open('output_en.csv', 'w') as csv_file: \r\n",
        "        csv_w = csv.writer(csv_file, delimiter=\",\")\r\n",
        "        for row in output: \r\n",
        "            csv_w.writerow(row)\r\n",
        "        print(\"결과 저장 완료: \", datetime.datetime.now().strftime(\"%Y/%m/%d %H:%M:%S\"))"
      ],
      "execution_count": null,
      "outputs": []
    }
  ]
}